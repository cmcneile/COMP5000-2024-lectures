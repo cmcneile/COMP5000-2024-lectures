{
 "cells": [
  {
   "cell_type": "markdown",
   "id": "b2df1707",
   "metadata": {
    "slideshow": {
     "slide_type": "slide"
    }
   },
   "source": [
    "# Python examples in lecture 10\n",
    "* This file is a jupyter notebook. To run it you can download it from the DLE and run it on your own machine.\n",
    "* Or you can run it on google collab <https://colab.research.google.com> via your google account. This may be slower than running on your own machine\n",
    "* Information on downloading notebooks from the store to your computer https://youtu.be/1zY7hIj5tWg"
   ]
  },
  {
   "cell_type": "markdown",
   "id": "5c098a32",
   "metadata": {
    "slideshow": {
     "slide_type": "slide"
    }
   },
   "source": [
    "## Why do we use classes and objects in python?\n",
    "\n",
    "* The use of objects allows a better modelllng of a system. For example, if we are writting python code to record students results, it may better to work with objects to represent the student.\n",
    "* The details of the object are hidden from the user of the object. This is sometimes known an encapsulation https://en.wikipedia.org/wiki/Encapsulation_(computer_programming) or information hiding https://en.wikipedia.org/wiki/Information_hiding\n",
    "\n"
   ]
  },
  {
   "cell_type": "code",
   "execution_count": 1,
   "id": "665286ec",
   "metadata": {},
   "outputs": [
    {
     "name": "stdout",
     "output_type": "stream",
     "text": [
      "Area =  2\n"
     ]
    }
   ],
   "source": [
    "class Rectangle:\n",
    "    def __init__(self, x, y):\n",
    "        self.x = x\n",
    "        self.y = y\n",
    "    def area(self):\n",
    "        return self.x * self.y\n",
    "\n",
    "r = Rectangle(1,2)\n",
    "print(\"Area = \" , r.area() )"
   ]
  },
  {
   "cell_type": "markdown",
   "id": "492fbb9b",
   "metadata": {
    "slideshow": {
     "slide_type": "slide"
    }
   },
   "source": [
    "##  Inheritance\n",
    "\n",
    "* The pure idea of OO programing is that we have a library of objects, which interact via methods.\n",
    "* But how do we extend classses?\n",
    "\n",
    "For example if we are writing software for the University. We\n",
    "might need classes for\n",
    "\n",
    "* Lecturers\n",
    "* Professor\n",
    "* Technician\n",
    "* Administrative staff\n",
    "\n",
    "There will be common attributes, such as names, but some which\n",
    "are different, such as only Lecturers and Professor only teach classes.\n",
    "\n",
    "* We want to collect together the common parts of the objects.\n",
    "* We don't want to do cut and paste programming  https://en.wikipedia.org/wiki/Copy-and-paste_programming to code similar objects."
   ]
  },
  {
   "cell_type": "markdown",
   "id": "b6fba450",
   "metadata": {
    "slideshow": {
     "slide_type": "slide"
    }
   },
   "source": [
    "## Inheritance example\n",
    "\n",
    "I have shown you a rectangle class in python with height and width.\n",
    "\n",
    "\n",
    "We want to create an object for coloured rectangle.\n",
    "\n",
    "\n",
    "* We introduce a ColourRectangle class which inherits from the Rectangle class.\n",
    "* The ColourRectangle class inherits from the Rectangle class.\n",
    "* The ColourRectangle class contains the name of the colour.\n"
   ]
  },
  {
   "cell_type": "code",
   "execution_count": 2,
   "id": "91566250",
   "metadata": {
    "slideshow": {
     "slide_type": "slide"
    }
   },
   "outputs": [
    {
     "name": "stdout",
     "output_type": "stream",
     "text": [
      "Area =  4500\n",
      "Colour =  Red\n"
     ]
    }
   ],
   "source": [
    "class Rectangle:\n",
    "    def __init__(self, x, y):\n",
    "        self.x = x\n",
    "        self.y = y\n",
    "    def area(self):\n",
    "        return self.x * self.y\n",
    "\n",
    "class ColourRectangle(Rectangle):\n",
    "  def __init__(self, x, y, colour):\n",
    "    super().__init__(x, y) \n",
    "    self.colour = colour\n",
    "  def print_colour(self):\n",
    "    print(\"Colour = \" , self.colour)\n",
    "\n",
    "rectangle = ColourRectangle(100, 45, \"Red\")\n",
    "print(\"Area = \" , rectangle.area())\n",
    "rectangle.print_colour()\n"
   ]
  },
  {
   "cell_type": "markdown",
   "id": "d85e75ae",
   "metadata": {
    "slideshow": {
     "slide_type": "slide"
    }
   },
   "source": [
    "## Inheritance jargon\n",
    "\n",
    "* Rectangle is the parent class.\n",
    "\n",
    "* ColourRectangle is the child class.\n",
    "\n",
    "* The super() builtin returns a proxy object (temporary object of the superclass) "
   ]
  },
  {
   "cell_type": "markdown",
   "id": "e1c5753e",
   "metadata": {
    "slideshow": {
     "slide_type": "slide"
    }
   },
   "source": [
    "##  Object\n",
    "\n",
    "* All classes in python inherit from the object class.\n",
    "\n",
    "* The object() function returns an empty object.\n",
    "\n",
    "* This object is the base for all classes, it holds the built-in properties and methods which are default for all classes.\n",
    "\n",
    "* However, for python3 you don't need to add explicit inheritance   of the object.   "
   ]
  },
  {
   "cell_type": "code",
   "execution_count": 3,
   "id": "9da177f7",
   "metadata": {},
   "outputs": [
    {
     "name": "stdout",
     "output_type": "stream",
     "text": [
      "Methods in the object  ['__class__', '__delattr__', '__dir__', '__doc__', '__eq__', '__format__', '__ge__', '__getattribute__', '__getstate__', '__gt__', '__hash__', '__init__', '__init_subclass__', '__le__', '__lt__', '__ne__', '__new__', '__reduce__', '__reduce_ex__', '__repr__', '__setattr__', '__sizeof__', '__str__', '__subclasshook__']\n",
      "Type of x  <class 'object'>\n"
     ]
    }
   ],
   "source": [
    "x = object()\n",
    "print(\"Methods in the object \" , dir(x))\n",
    "print(\"Type of x \", type(x))"
   ]
  },
  {
   "cell_type": "markdown",
   "id": "0b2246fb",
   "metadata": {
    "slideshow": {
     "slide_type": "slide"
    }
   },
   "source": [
    "* In python 3, the definitions for Simple and SimpleA below are equivalent.\n",
    "\n",
    "* **dir** writes out the methods of the class."
   ]
  },
  {
   "cell_type": "code",
   "execution_count": 4,
   "id": "0041aeb9",
   "metadata": {},
   "outputs": [
    {
     "name": "stdout",
     "output_type": "stream",
     "text": [
      "['__class__', '__delattr__', '__dict__', '__dir__', '__doc__', '__eq__', '__format__', '__ge__', '__getattribute__', '__getstate__', '__gt__', '__hash__', '__init__', '__init_subclass__', '__le__', '__lt__', '__module__', '__ne__', '__new__', '__reduce__', '__reduce_ex__', '__repr__', '__setattr__', '__sizeof__', '__str__', '__subclasshook__', '__weakref__', 'x']\n"
     ]
    }
   ],
   "source": [
    "class Simple:\n",
    "    def __init__(self, x):\n",
    "        self.x = x\n",
    "class SimpleA(object):\n",
    "    def __init__(self, x):\n",
    "        self.x = x\n",
    "\n",
    "a = Simple(10)\n",
    "b = SimpleA(5)\n",
    "print(dir(a))\n"
   ]
  },
  {
   "cell_type": "markdown",
   "id": "10b14e29",
   "metadata": {
    "slideshow": {
     "slide_type": "slide"
    }
   },
   "source": [
    "##  Recommendations for object oriented design\n",
    "\n",
    "\n",
    "* I would recommend being very careful on using inheritance in your code.\n",
    "* It is often recommended to use composition rather than inheritance https://realpython.com/inheritance-composition-python/\n",
    "\n",
    "* It is usually recommended to not use multiple inheritance, where a class can inherit from multiple classes.\n",
    "\n",
    "* It is important to know about inheritance.\n",
    "\n",
    "* I once wrote a c++ code to do statistical analysis. I used multiple inheritance to convert the data into a standard format. The code ended up a total mess.\n"
   ]
  },
  {
   "cell_type": "markdown",
   "id": "095f52a3",
   "metadata": {},
   "source": [
    "##  Further reading\n",
    "\n",
    "* Chapter 18  Inheritance from the book: Think Phython  https://greenteapress.com/thinkpython/html/thinkpython019.html#toc195\n",
    "* W3 schools page on Inheritance https://www.w3schools.com/python/python_inheritance.asp\n",
    "\n"
   ]
  },
  {
   "cell_type": "markdown",
   "id": "e1e87888",
   "metadata": {
    "slideshow": {
     "slide_type": "slide"
    }
   },
   "source": [
    "#  Inserting  into and changing a SQLite database"
   ]
  },
  {
   "cell_type": "markdown",
   "id": "78d71936",
   "metadata": {
    "slideshow": {
     "slide_type": "-"
    }
   },
   "source": [
    "Recall the CRUD model of interacting with a database  \n",
    "\n",
    "https://en.wikipedia.org/wiki/Create,_read,_update_and_delete\n",
    "\n",
    "\n",
    "* Create\n",
    "* Read\n",
    "* Update\n",
    "* Delete\n",
    "\n",
    "We will now review Create and introduce the Update and Delete."
   ]
  },
  {
   "cell_type": "markdown",
   "id": "6a554bdb",
   "metadata": {
    "slideshow": {
     "slide_type": "slide"
    }
   },
   "source": [
    "##  Component parts of SQL\n",
    "\n",
    "**data definition language (DDL)** https://en.wikipedia.org/wiki/Data_definition_language\n",
    "* create table\n",
    "* alter table\n",
    "* drop table   (delete a table)\n",
    "\n",
    "**data query language (DQL)** https://en.wikipedia.org/wiki/Data_query_language\n",
    "* select \n",
    "\n",
    "**A data manipulation language (DML)** is a computer programming language used for adding (inserting), deleting, and modifying (updating) data in a database. https://en.wikipedia.org/wiki/Data_manipulation_language\n"
   ]
  },
  {
   "cell_type": "markdown",
   "id": "4a9b8831",
   "metadata": {
    "slideshow": {
     "slide_type": "slide"
    }
   },
   "source": [
    "##  Example of adding a table into a database\n",
    "\n",
    "The example python code below creates a SQLite database in the file:  <b> example.db </b>\n",
    "\n",
    "The name of the table is:  <b> EMPLOYEE </b> with column headings\n",
    "\n",
    "*  FIRST_NAME\n",
    "*  AGE\n",
    "\n",
    "Note I have not added a key for the table.\n"
   ]
  },
  {
   "cell_type": "code",
   "execution_count": 5,
   "id": "4c5d8dc9",
   "metadata": {
    "slideshow": {
     "slide_type": "slide"
    }
   },
   "outputs": [
    {
     "ename": "OperationalError",
     "evalue": "no such table: EMPLOYEE",
     "output_type": "error",
     "traceback": [
      "\u001b[0;31m---------------------------------------------------------------------------\u001b[0m",
      "\u001b[0;31mOperationalError\u001b[0m                          Traceback (most recent call last)",
      "Cell \u001b[0;32mIn[5], line 6\u001b[0m\n\u001b[1;32m      4\u001b[0m \u001b[38;5;66;03m#Creating a cursor object using the cursor() method\u001b[39;00m\n\u001b[1;32m      5\u001b[0m cursor \u001b[38;5;241m=\u001b[39m conn\u001b[38;5;241m.\u001b[39mcursor()\n\u001b[0;32m----> 6\u001b[0m cursor\u001b[38;5;241m.\u001b[39mexecute(\u001b[38;5;124m\"\u001b[39m\u001b[38;5;124mDROP TABLE EMPLOYEE\u001b[39m\u001b[38;5;124m\"\u001b[39m)\n\u001b[1;32m      8\u001b[0m \u001b[38;5;66;03m#Creating table as per requirement. This is an example of a SQL schema.\u001b[39;00m\n\u001b[1;32m      9\u001b[0m sql \u001b[38;5;241m=\u001b[39m\u001b[38;5;124m'''\u001b[39m\u001b[38;5;124mCREATE TABLE IF NOT EXISTS EMPLOYEE(\u001b[39m\n\u001b[1;32m     10\u001b[0m \u001b[38;5;124m   FIRST_NAME CHAR(20),\u001b[39m\n\u001b[1;32m     11\u001b[0m \u001b[38;5;124m   AGE INT\u001b[39m\n\u001b[1;32m     12\u001b[0m \u001b[38;5;124m)\u001b[39m\u001b[38;5;124m'''\u001b[39m\n",
      "\u001b[0;31mOperationalError\u001b[0m: no such table: EMPLOYEE"
     ]
    }
   ],
   "source": [
    "import sqlite3\n",
    "conn = sqlite3.connect('example.db')\n",
    "\n",
    "#Creating a cursor object using the cursor() method\n",
    "cursor = conn.cursor()\n",
    "cursor.execute(\"DROP TABLE EMPLOYEE\")\n",
    "\n",
    "#Creating table as per requirement. This is an example of a SQL schema.\n",
    "sql ='''CREATE TABLE IF NOT EXISTS EMPLOYEE(\n",
    "   FIRST_NAME CHAR(20),\n",
    "   AGE INT\n",
    ")'''\n",
    "cursor.execute(sql)\n",
    "print(\"Table created successfully........\")\n",
    "# Commit your changes in the database\n",
    "conn.commit()\n",
    "#Closing the connection\n",
    "conn.close()"
   ]
  },
  {
   "cell_type": "markdown",
   "id": "b4b245cb",
   "metadata": {
    "slideshow": {
     "slide_type": "subslide"
    }
   },
   "source": [
    "## Comment on the above code\n",
    "\n",
    "* The command <b> conn.commit() </b> makes the changes to the database file.\n",
    "* If the EMPLOYEE table is already in the file example.db you will get an error. So I would first delete the file <b> example.db </b>\n"
   ]
  },
  {
   "cell_type": "markdown",
   "id": "b2b4fff3",
   "metadata": {
    "slideshow": {
     "slide_type": "slide"
    }
   },
   "source": [
    "## Inserting a new row into SQLite database file\n",
    "\n",
    "* Now that we have created a database file we can add rows to the table.\n",
    "* In a previous lecture we have seen how to create a table using pandas.\n",
    "* This example puts constant values into the database."
   ]
  },
  {
   "cell_type": "code",
   "execution_count": 6,
   "id": "25dfdbb4",
   "metadata": {
    "slideshow": {
     "slide_type": "slide"
    }
   },
   "outputs": [
    {
     "ename": "OperationalError",
     "evalue": "no such table: EMPLOYEE",
     "output_type": "error",
     "traceback": [
      "\u001b[0;31m---------------------------------------------------------------------------\u001b[0m",
      "\u001b[0;31mOperationalError\u001b[0m                          Traceback (most recent call last)",
      "Cell \u001b[0;32mIn[6], line 6\u001b[0m\n\u001b[1;32m      4\u001b[0m cursor \u001b[38;5;241m=\u001b[39m conn\u001b[38;5;241m.\u001b[39mcursor()\n\u001b[1;32m      5\u001b[0m \u001b[38;5;66;03m# Preparing SQL queries to INSERT a record into the database.\u001b[39;00m\n\u001b[0;32m----> 6\u001b[0m cursor\u001b[38;5;241m.\u001b[39mexecute(\u001b[38;5;124m'''\u001b[39m\u001b[38;5;124mINSERT INTO EMPLOYEE(\u001b[39m\n\u001b[1;32m      7\u001b[0m \u001b[38;5;124m   FIRST_NAME, AGE) VALUES \u001b[39m\n\u001b[1;32m      8\u001b[0m \u001b[38;5;124m   (\u001b[39m\u001b[38;5;124m'\u001b[39m\u001b[38;5;124mRamya\u001b[39m\u001b[38;5;124m'\u001b[39m\u001b[38;5;124m,  27)\u001b[39m\u001b[38;5;124m'''\u001b[39m)\n\u001b[1;32m      9\u001b[0m cursor\u001b[38;5;241m.\u001b[39mexecute(\u001b[38;5;124m'''\u001b[39m\u001b[38;5;124mINSERT INTO EMPLOYEE(\u001b[39m\n\u001b[1;32m     10\u001b[0m \u001b[38;5;124m   FIRST_NAME,  AGE) VALUES \u001b[39m\n\u001b[1;32m     11\u001b[0m \u001b[38;5;124m   (\u001b[39m\u001b[38;5;124m'\u001b[39m\u001b[38;5;124mTom\u001b[39m\u001b[38;5;124m'\u001b[39m\u001b[38;5;124m,  20)\u001b[39m\u001b[38;5;124m'''\u001b[39m)\n\u001b[1;32m     12\u001b[0m cursor\u001b[38;5;241m.\u001b[39mexecute(\u001b[38;5;124m'''\u001b[39m\u001b[38;5;124mINSERT INTO EMPLOYEE(\u001b[39m\n\u001b[1;32m     13\u001b[0m \u001b[38;5;124m   FIRST_NAME, AGE) VALUES \u001b[39m\n\u001b[1;32m     14\u001b[0m \u001b[38;5;124m   (\u001b[39m\u001b[38;5;124m'\u001b[39m\u001b[38;5;124mJane\u001b[39m\u001b[38;5;124m'\u001b[39m\u001b[38;5;124m,  35)\u001b[39m\u001b[38;5;124m'''\u001b[39m)\n",
      "\u001b[0;31mOperationalError\u001b[0m: no such table: EMPLOYEE"
     ]
    }
   ],
   "source": [
    "import sqlite3\n",
    "conn = sqlite3.connect('example.db')\n",
    "#Creating a cursor object using the cursor() method\n",
    "cursor = conn.cursor()\n",
    "# Preparing SQL queries to INSERT a record into the database.\n",
    "cursor.execute('''INSERT INTO EMPLOYEE(\n",
    "   FIRST_NAME, AGE) VALUES \n",
    "   ('Ramya',  27)''')\n",
    "cursor.execute('''INSERT INTO EMPLOYEE(\n",
    "   FIRST_NAME,  AGE) VALUES \n",
    "   ('Tom',  20)''')\n",
    "cursor.execute('''INSERT INTO EMPLOYEE(\n",
    "   FIRST_NAME, AGE) VALUES \n",
    "   ('Jane',  35)''')\n",
    "cursor.execute('''INSERT INTO EMPLOYEE(\n",
    "   FIRST_NAME, AGE) VALUES \n",
    "   ('Roger', 22 )''')\n",
    "# Commit your changes in the database\n",
    "conn.commit()\n",
    "print(\"Records inserted........\")\n",
    "# Closing the connection\n",
    "conn.close()\n"
   ]
  },
  {
   "cell_type": "markdown",
   "id": "8737da37",
   "metadata": {
    "slideshow": {
     "slide_type": "slide"
    }
   },
   "source": [
    "We can check that the rows have been added to the table in the database\n",
    "\n",
    "* Use the python code to read the table to show the rows have been entered.\n",
    "* Or you can use a command line utility such as https://sqlite.org/cli.html\n",
    "* Or you can use the online https://inloop.github.io/sqlite-viewer/\n",
    "\n",
    "\n"
   ]
  },
  {
   "cell_type": "code",
   "execution_count": 7,
   "id": "60b4259f",
   "metadata": {
    "slideshow": {
     "slide_type": "slide"
    }
   },
   "outputs": [
    {
     "ename": "OperationalError",
     "evalue": "no such table: EMPLOYEE",
     "output_type": "error",
     "traceback": [
      "\u001b[0;31m---------------------------------------------------------------------------\u001b[0m",
      "\u001b[0;31mOperationalError\u001b[0m                          Traceback (most recent call last)",
      "Cell \u001b[0;32mIn[7], line 4\u001b[0m\n\u001b[1;32m      2\u001b[0m connection \u001b[38;5;241m=\u001b[39m sqlite3\u001b[38;5;241m.\u001b[39mconnect(\u001b[38;5;124m\"\u001b[39m\u001b[38;5;124mexample.db\u001b[39m\u001b[38;5;124m\"\u001b[39m)\n\u001b[1;32m      3\u001b[0m cursor \u001b[38;5;241m=\u001b[39m connection\u001b[38;5;241m.\u001b[39mcursor()\n\u001b[0;32m----> 4\u001b[0m cursor\u001b[38;5;241m.\u001b[39mexecute(\u001b[38;5;124m\"\u001b[39m\u001b[38;5;124mSELECT * FROM EMPLOYEE\u001b[39m\u001b[38;5;124m\"\u001b[39m) \n\u001b[1;32m      5\u001b[0m result \u001b[38;5;241m=\u001b[39m cursor\u001b[38;5;241m.\u001b[39mfetchall() \n\u001b[1;32m      6\u001b[0m \u001b[38;5;28;01mfor\u001b[39;00m r \u001b[38;5;129;01min\u001b[39;00m result:\n",
      "\u001b[0;31mOperationalError\u001b[0m: no such table: EMPLOYEE"
     ]
    }
   ],
   "source": [
    "import sqlite3\n",
    "connection = sqlite3.connect(\"example.db\")\n",
    "cursor = connection.cursor()\n",
    "cursor.execute(\"SELECT * FROM EMPLOYEE\") \n",
    "result = cursor.fetchall() \n",
    "for r in result:\n",
    "    print(r)"
   ]
  },
  {
   "cell_type": "markdown",
   "id": "252b5419",
   "metadata": {
    "slideshow": {
     "slide_type": "slide"
    }
   },
   "source": [
    "## Example of inserting values into a table\n",
    "\n",
    "* In this example, variables **name_** and **age_** are addded to the table."
   ]
  },
  {
   "cell_type": "code",
   "execution_count": 8,
   "id": "4f73a15e",
   "metadata": {
    "slideshow": {
     "slide_type": "-"
    }
   },
   "outputs": [
    {
     "ename": "OperationalError",
     "evalue": "no such table: EMPLOYEE",
     "output_type": "error",
     "traceback": [
      "\u001b[0;31m---------------------------------------------------------------------------\u001b[0m",
      "\u001b[0;31mOperationalError\u001b[0m                          Traceback (most recent call last)",
      "Cell \u001b[0;32mIn[8], line 12\u001b[0m\n\u001b[1;32m      9\u001b[0m age_  \u001b[38;5;241m=\u001b[39m \u001b[38;5;241m45\u001b[39m\n\u001b[1;32m     11\u001b[0m \u001b[38;5;66;03m# Preparing SQL queries to INSERT a record into the database.\u001b[39;00m\n\u001b[0;32m---> 12\u001b[0m cursor\u001b[38;5;241m.\u001b[39mexecute(\u001b[38;5;124m'''\u001b[39m\u001b[38;5;124mINSERT INTO EMPLOYEE(\u001b[39m\n\u001b[1;32m     13\u001b[0m \u001b[38;5;124m   FIRST_NAME, AGE) VALUES \u001b[39m\n\u001b[1;32m     14\u001b[0m \u001b[38;5;124m   (?, ?)\u001b[39m\u001b[38;5;124m'''\u001b[39m , (name_, age_) )\n\u001b[1;32m     15\u001b[0m \u001b[38;5;66;03m# Note that (name_, age_ ) is a tuple data type\u001b[39;00m\n\u001b[1;32m     16\u001b[0m \n\u001b[1;32m     17\u001b[0m \u001b[38;5;66;03m# Commit your changes in the database\u001b[39;00m\n\u001b[1;32m     18\u001b[0m conn\u001b[38;5;241m.\u001b[39mcommit()\n",
      "\u001b[0;31mOperationalError\u001b[0m: no such table: EMPLOYEE"
     ]
    }
   ],
   "source": [
    "import sqlite3\n",
    "\n",
    "conn = sqlite3.connect('example.db')\n",
    "\n",
    "#Creating a cursor object using the cursor() method\n",
    "cursor = conn.cursor()\n",
    "\n",
    "name_ = \"John\"\n",
    "age_  = 45\n",
    "\n",
    "# Preparing SQL queries to INSERT a record into the database.\n",
    "cursor.execute('''INSERT INTO EMPLOYEE(\n",
    "   FIRST_NAME, AGE) VALUES \n",
    "   (?, ?)''' , (name_, age_) )\n",
    "# Note that (name_, age_ ) is a tuple data type\n",
    "\n",
    "# Commit your changes in the database\n",
    "conn.commit()\n",
    "print(\"Records inserted........\")\n",
    "# Closing the connection\n",
    "conn.close()\n"
   ]
  },
  {
   "cell_type": "markdown",
   "id": "6821565e",
   "metadata": {
    "slideshow": {
     "slide_type": "slide"
    }
   },
   "source": [
    "##  Updating and changing the table\n",
    "\n",
    "The data in the table can be updated\n",
    "\n",
    "The SQL command sets all the ages to 35\n",
    "\n",
    "<b> UPDATE EMPLOYEE SET AGE = 35;  </b>\n",
    "\n",
    "The SQL commands adds 1 to each age\n",
    "\n",
    "<b> UPDATE EMPLOYEE SET AGE = AGE+1;  </b>\n",
    "\n",
    "The SQL command below sets Tom's age to 40\n",
    "\n",
    "<b> UPDATE EMPLOYEE SET AGE=40 WHERE FIRST_NAME = 'Tom'</b>\n",
    "\n",
    "See the file <b> update_example.py </b> for an example using python.\n",
    "\n",
    "See  https://www.w3schools.com/sql/sql_update.asp for more examples\n"
   ]
  },
  {
   "cell_type": "code",
   "execution_count": 9,
   "id": "29644932",
   "metadata": {
    "slideshow": {
     "slide_type": "slide"
    }
   },
   "outputs": [
    {
     "ename": "OperationalError",
     "evalue": "no such table: EMPLOYEE",
     "output_type": "error",
     "traceback": [
      "\u001b[0;31m---------------------------------------------------------------------------\u001b[0m",
      "\u001b[0;31mOperationalError\u001b[0m                          Traceback (most recent call last)",
      "Cell \u001b[0;32mIn[9], line 7\u001b[0m\n\u001b[1;32m      5\u001b[0m \u001b[38;5;66;03m#Updating the records\u001b[39;00m\n\u001b[1;32m      6\u001b[0m sql \u001b[38;5;241m=\u001b[39m \u001b[38;5;124m\"\u001b[39m\u001b[38;5;124mUPDATE EMPLOYEE SET AGE=40 WHERE FIRST_NAME = \u001b[39m\u001b[38;5;124m'\u001b[39m\u001b[38;5;124mTom\u001b[39m\u001b[38;5;124m'\u001b[39m\u001b[38;5;124m \u001b[39m\u001b[38;5;124m\"\u001b[39m\n\u001b[0;32m----> 7\u001b[0m cursor\u001b[38;5;241m.\u001b[39mexecute(sql)\n\u001b[1;32m      8\u001b[0m \u001b[38;5;28mprint\u001b[39m(\u001b[38;5;124m\"\u001b[39m\u001b[38;5;124mTable updated...... \u001b[39m\u001b[38;5;124m\"\u001b[39m)\n\u001b[1;32m     10\u001b[0m cursor\u001b[38;5;241m.\u001b[39mexecute(\u001b[38;5;124m\"\u001b[39m\u001b[38;5;124mSELECT * FROM EMPLOYEE\u001b[39m\u001b[38;5;124m\"\u001b[39m) \n",
      "\u001b[0;31mOperationalError\u001b[0m: no such table: EMPLOYEE"
     ]
    }
   ],
   "source": [
    "import sqlite3\n",
    "connection = sqlite3.connect(\"example.db\")\n",
    "cursor = connection.cursor()\n",
    "\n",
    "#Updating the records\n",
    "sql = \"UPDATE EMPLOYEE SET AGE=40 WHERE FIRST_NAME = 'Tom' \"\n",
    "cursor.execute(sql)\n",
    "print(\"Table updated...... \")\n",
    "\n",
    "cursor.execute(\"SELECT * FROM EMPLOYEE\") \n",
    "result = cursor.fetchall() \n",
    "for r in result:\n",
    "    print(r)"
   ]
  },
  {
   "cell_type": "markdown",
   "id": "7fee918b",
   "metadata": {
    "slideshow": {
     "slide_type": "slide"
    }
   },
   "source": [
    "###  Deletion \n",
    "Data in the tables can be deleted.\n",
    "\n",
    "The SQL command deletes the row with FIRST_NAME equal to Jane.\n",
    "\n",
    "<b> DELETE FROM EMPLOYEE WHERE FIRST_NAME = 'Jane'; </b>\n",
    "\n",
    "The SQL command deletes everything from the EMPLOYEE table.\n",
    "\n",
    "<b> DELETE FROM EMPLOYEE ;</b>\n",
    "\n",
    "See more information at: https://www.w3schools.com/sql/sql_delete.asp\n",
    "\n"
   ]
  },
  {
   "cell_type": "code",
   "execution_count": 10,
   "id": "b9b7be90",
   "metadata": {
    "slideshow": {
     "slide_type": "slide"
    }
   },
   "outputs": [
    {
     "ename": "OperationalError",
     "evalue": "no such table: EMPLOYEE",
     "output_type": "error",
     "traceback": [
      "\u001b[0;31m---------------------------------------------------------------------------\u001b[0m",
      "\u001b[0;31mOperationalError\u001b[0m                          Traceback (most recent call last)",
      "Cell \u001b[0;32mIn[10], line 7\u001b[0m\n\u001b[1;32m      5\u001b[0m \u001b[38;5;66;03m#Updating the records. Remove row with First_Name Jane\u001b[39;00m\n\u001b[1;32m      6\u001b[0m sql \u001b[38;5;241m=\u001b[39m \u001b[38;5;124m\"\u001b[39m\u001b[38;5;124mDELETE FROM EMPLOYEE WHERE FIRST_NAME = \u001b[39m\u001b[38;5;124m'\u001b[39m\u001b[38;5;124mJane\u001b[39m\u001b[38;5;124m'\u001b[39m\u001b[38;5;124m;\u001b[39m\u001b[38;5;124m\"\u001b[39m\n\u001b[0;32m----> 7\u001b[0m cursor\u001b[38;5;241m.\u001b[39mexecute(sql)\n\u001b[1;32m      8\u001b[0m \u001b[38;5;28mprint\u001b[39m(\u001b[38;5;124m\"\u001b[39m\u001b[38;5;124mTable updated...... \u001b[39m\u001b[38;5;124m\"\u001b[39m)\n\u001b[1;32m     10\u001b[0m cursor\u001b[38;5;241m.\u001b[39mexecute(\u001b[38;5;124m\"\u001b[39m\u001b[38;5;124mSELECT * FROM EMPLOYEE\u001b[39m\u001b[38;5;124m\"\u001b[39m) \n",
      "\u001b[0;31mOperationalError\u001b[0m: no such table: EMPLOYEE"
     ]
    }
   ],
   "source": [
    "import sqlite3\n",
    "connection = sqlite3.connect(\"example.db\")\n",
    "cursor = connection.cursor()\n",
    "\n",
    "#Updating the records. Remove row with First_Name Jane\n",
    "sql = \"DELETE FROM EMPLOYEE WHERE FIRST_NAME = 'Jane';\"\n",
    "cursor.execute(sql)\n",
    "print(\"Table updated...... \")\n",
    "\n",
    "cursor.execute(\"SELECT * FROM EMPLOYEE\") \n",
    "result = cursor.fetchall() \n",
    "for r in result:\n",
    "    print(r)"
   ]
  },
  {
   "cell_type": "markdown",
   "id": "78c17af6",
   "metadata": {
    "slideshow": {
     "slide_type": "slide"
    }
   },
   "source": [
    "##  Altering the TABLES\n",
    "\n",
    "The SQL command below adds a new column LAST_NAME to the EMPLOYEE table\n",
    "\n",
    "<b>  ALTER TABLE EMPLOYEE ADD COLUMN LAST_NAME ; </b>\n",
    "\n",
    "The SQL command renames the table EMPLOYEE to STAFF\n",
    "\n",
    "<b> ALTER TABLE EMPLOYEE RENAME to STAFF  ; </b>\n",
    "\n",
    "The SQL ccommand rename a column in table EMPLOYEE\n",
    "\n",
    "<b>  ALTER TABLE EMPLOYEE RENAME COLUMN Age TO StaffAge ; </b>\n",
    "\n",
    "\n",
    "Some database systems allow a column to be deleted. This is not so easy with SQLite https://www.sqlitetutorial.net/sqlite-alter-table/\n",
    "\n",
    "See  https://www.sqlite.org/lang_altertable.html  for additional information."
   ]
  },
  {
   "cell_type": "code",
   "execution_count": 11,
   "id": "96e05e38",
   "metadata": {
    "slideshow": {
     "slide_type": "slide"
    }
   },
   "outputs": [
    {
     "ename": "OperationalError",
     "evalue": "no such table: EMPLOYEE",
     "output_type": "error",
     "traceback": [
      "\u001b[0;31m---------------------------------------------------------------------------\u001b[0m",
      "\u001b[0;31mOperationalError\u001b[0m                          Traceback (most recent call last)",
      "Cell \u001b[0;32mIn[11], line 7\u001b[0m\n\u001b[1;32m      5\u001b[0m \u001b[38;5;66;03m# Add a new column\u001b[39;00m\n\u001b[1;32m      6\u001b[0m sql \u001b[38;5;241m=\u001b[39m \u001b[38;5;124m\"\u001b[39m\u001b[38;5;124mALTER TABLE EMPLOYEE ADD COLUMN LAST_NAME\u001b[39m\u001b[38;5;124m\"\u001b[39m \n\u001b[0;32m----> 7\u001b[0m cursor\u001b[38;5;241m.\u001b[39mexecute(sql)\n\u001b[1;32m      8\u001b[0m \u001b[38;5;28mprint\u001b[39m(\u001b[38;5;124m\"\u001b[39m\u001b[38;5;124mTable updated...... \u001b[39m\u001b[38;5;124m\"\u001b[39m)\n\u001b[1;32m     10\u001b[0m cursor\u001b[38;5;241m.\u001b[39mexecute(\u001b[38;5;124m\"\u001b[39m\u001b[38;5;124mSELECT * FROM EMPLOYEE\u001b[39m\u001b[38;5;124m\"\u001b[39m) \n",
      "\u001b[0;31mOperationalError\u001b[0m: no such table: EMPLOYEE"
     ]
    }
   ],
   "source": [
    "import sqlite3\n",
    "connection = sqlite3.connect(\"example.db\")\n",
    "cursor = connection.cursor()\n",
    "\n",
    "# Add a new column\n",
    "sql = \"ALTER TABLE EMPLOYEE ADD COLUMN LAST_NAME\" \n",
    "cursor.execute(sql)\n",
    "print(\"Table updated...... \")\n",
    "\n",
    "cursor.execute(\"SELECT * FROM EMPLOYEE\") \n",
    "result = cursor.fetchall() \n",
    "for r in result:\n",
    "    print(r)"
   ]
  },
  {
   "cell_type": "code",
   "execution_count": null,
   "id": "cb943ee7",
   "metadata": {},
   "outputs": [],
   "source": []
  },
  {
   "cell_type": "code",
   "execution_count": null,
   "id": "da92a1bc",
   "metadata": {},
   "outputs": [],
   "source": []
  }
 ],
 "metadata": {
  "celltoolbar": "Slideshow",
  "kernelspec": {
   "display_name": "Python 3 (ipykernel)",
   "language": "python",
   "name": "python3"
  },
  "language_info": {
   "codemirror_mode": {
    "name": "ipython",
    "version": 3
   },
   "file_extension": ".py",
   "mimetype": "text/x-python",
   "name": "python",
   "nbconvert_exporter": "python",
   "pygments_lexer": "ipython3",
   "version": "3.12.2"
  }
 },
 "nbformat": 4,
 "nbformat_minor": 5
}
