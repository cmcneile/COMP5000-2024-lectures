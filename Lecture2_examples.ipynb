{
 "cells": [
  {
   "cell_type": "markdown",
   "id": "1832d00b",
   "metadata": {
    "slideshow": {
     "slide_type": "slide"
    }
   },
   "source": [
    "# Python examples in lecture 2\n",
    "* This file is a jupyter notebook. To run it you can download it from the DLE and run it on your own machine.\n",
    "* Or you can run it on google collab <https://colab.research.google.com> via your google account. This may be slower than running on your own machine\n"
   ]
  },
  {
   "cell_type": "markdown",
   "id": "23b7496f",
   "metadata": {
    "slideshow": {
     "slide_type": "slide"
    }
   },
   "source": [
    "###  Basic example of string manipulation  \n",
    "\n",
    "* Python has excellent string processing tools.\n",
    "* See https://greenteapress.com/thinkpython2/html/thinkpython2009.html from the book Think Python\n",
    "* The example shows how to combine two strings"
   ]
  },
  {
   "cell_type": "code",
   "execution_count": 1,
   "id": "535359b3",
   "metadata": {},
   "outputs": [
    {
     "name": "stdout",
     "output_type": "stream",
     "text": [
      "Hello  World \n"
     ]
    }
   ],
   "source": [
    "one = \"Hello \"\n",
    "two = \"World \"\n",
    "three = one + \" \" + two\n",
    "print (three)"
   ]
  },
  {
   "cell_type": "markdown",
   "id": "dd2e3182",
   "metadata": {
    "slideshow": {
     "slide_type": "slide"
    }
   },
   "source": [
    "##  More advanced manuplations of strings\n",
    "* Strings are a class, so there are additional ways to manipulate strings. https://www.w3schools.com/python/python_ref_string.asp\n",
    "* For example **.upper()** is known as a method. It converts a\n",
    "string to uppercase."
   ]
  },
  {
   "cell_type": "code",
   "execution_count": 2,
   "id": "49999852",
   "metadata": {},
   "outputs": [
    {
     "name": "stdout",
     "output_type": "stream",
     "text": [
      "Hello World\n",
      "HELLO WORLD\n"
     ]
    }
   ],
   "source": [
    "x = str(\"Hello World\")\n",
    "print(x)\n",
    "print(x.upper())"
   ]
  },
  {
   "cell_type": "markdown",
   "id": "3743614d",
   "metadata": {
    "slideshow": {
     "slide_type": "slide"
    }
   },
   "source": [
    "##  Breaking up strings\n",
    "* It is easy to break down a string in terms of characters.\n",
    "* There are better ways to look inside strings"
   ]
  },
  {
   "cell_type": "code",
   "execution_count": 3,
   "id": "6eebed2f",
   "metadata": {},
   "outputs": [
    {
     "name": "stdout",
     "output_type": "stream",
     "text": [
      "AbC\n",
      "A\n",
      "b\n",
      "C\n"
     ]
    }
   ],
   "source": [
    "x = \"AbC\"\n",
    "print (x)\n",
    "print (x[0])\n",
    "print (x[1])\n",
    "print (x[2])"
   ]
  },
  {
   "cell_type": "markdown",
   "id": "6e360741",
   "metadata": {
    "slideshow": {
     "slide_type": "slide"
    }
   },
   "source": [
    "## More sophisticated analysis of strings\n",
    "* It is easy to break down a string in terms of words. \n",
    "* This is the basis of the analysis of text using python."
   ]
  },
  {
   "cell_type": "code",
   "execution_count": 6,
   "id": "fa66c082",
   "metadata": {},
   "outputs": [
    {
     "name": "stdout",
     "output_type": "stream",
     "text": [
      "['The', 'red', 'owl']\n",
      "The\n",
      "The\n",
      "red\n",
      "owl\n"
     ]
    }
   ],
   "source": [
    "text = \"The     red owl\"\n",
    "ans = text.split()\n",
    "print(ans)\n",
    "print(ans[0])\n",
    "for x in ans:\n",
    "    print (x)"
   ]
  },
  {
   "cell_type": "markdown",
   "id": "a4b0e27c",
   "metadata": {
    "slideshow": {
     "slide_type": "slide"
    }
   },
   "source": [
    "## Introduction to dictionaries\n",
    "* Sometimes it is more convenient to use say text strings to \"index a list\". \n",
    "* In the example below of the country with economic GDP value. \n",
    "* The country name is used to reference the GDP value.\n",
    "* More information on dictionaries at https://www.w3schools.com/python/python_dictionaries.asp\n",
    "* See the chapter https://greenteapress.com/thinkpython2/html/thinkpython2012.html in the book Think Python\n"
   ]
  },
  {
   "cell_type": "markdown",
   "id": "26ee5cae",
   "metadata": {
    "slideshow": {
     "slide_type": "slide"
    }
   },
   "source": [
    "## Example of the use of dictionary data structure \n",
    "* In the example, the country name is used to reference the GDP value.\n",
    "* The {} notation tells python that gdp is a dictionary"
   ]
  },
  {
   "cell_type": "code",
   "execution_count": 8,
   "id": "5b0193fa",
   "metadata": {},
   "outputs": [
    {
     "name": "stdout",
     "output_type": "stream",
     "text": [
      "USA 18558130\n",
      "Japan 4412600\n"
     ]
    }
   ],
   "source": [
    "\n",
    "gdp  = {'United States': '18558130', \n",
    "'China': 11383030, 'Japan': '4412600'}\n",
    "print (\"USA\", gdp['United States'])\n",
    "\n",
    "gdp['Japan'] = 4412600\n",
    "print (\"Japan\", gdp['Japan'])"
   ]
  },
  {
   "cell_type": "code",
   "execution_count": 9,
   "id": "c2fbf4ed",
   "metadata": {},
   "outputs": [
    {
     "name": "stdout",
     "output_type": "stream",
     "text": [
      "Country and GDP in dollars\n",
      "United States 18558130\n",
      "China 11383030\n",
      "Japan 4412600\n"
     ]
    }
   ],
   "source": [
    "dict = {'United States': '18558130', \n",
    "'China': 11383030, 'Japan': '4412600'}\n",
    "print (\"Country and GDP in dollars\")\n",
    "for xxx in dict.keys() :\n",
    "    print (xxx , dict[xxx] )"
   ]
  },
  {
   "cell_type": "markdown",
   "id": "081c3fe4",
   "metadata": {
    "slideshow": {
     "slide_type": "slide"
    }
   },
   "source": [
    "## Example of writing a code.\n",
    "* Load in the text file fit.txt\n",
    "* Download the file fit.txt from https://raw.githubusercontent.com/cmcneile/COMP5000-2022-lectures/main/fit.txt\n",
    "* Count the total number of pressups\n",
    "* There are examples on the web of reading a text file into python. See https://www.w3schools.com/python/python_file_open.asp\n",
    "\n"
   ]
  },
  {
   "cell_type": "markdown",
   "id": "66466fb1",
   "metadata": {
    "slideshow": {
     "slide_type": "slide"
    }
   },
   "source": [
    "## First version of the code"
   ]
  },
  {
   "cell_type": "code",
   "execution_count": 15,
   "id": "3df76020",
   "metadata": {},
   "outputs": [
    {
     "name": "stdout",
     "output_type": "stream",
     "text": [
      "['Monday\\n', 'Pressup 10\\n', 'Situp 20\\n', 'Tuesday\\n', 'Pressup 20\\n', 'Thursday\\n', 'Jog 10\\n', 'Pressup 30\\n', 'Friday\\n', 'Situp 20']\n",
      "Monday\n",
      "Pressup 10\n",
      "Situp 20\n",
      "Tuesday\n",
      "Pressup 20\n",
      "Thursday\n",
      "Jog 10\n",
      "Pressup 30\n",
      "Friday\n",
      "Situp 20\n"
     ]
    }
   ],
   "source": [
    "name = \"fit.txt\"\n",
    "f=open(name , \"r\")\n",
    "tmp = f.readlines()\n",
    "print( tmp)\n",
    "for x in tmp:\n",
    "   xx = x.rstrip()\n",
    "   print(xx)\n",
    "f.close()"
   ]
  },
  {
   "cell_type": "markdown",
   "id": "21fc6849",
   "metadata": {
    "slideshow": {
     "slide_type": "slide"
    }
   },
   "source": [
    "## Newline\n",
    "* On Mac's there is a special symbol for the end of the line.\n",
    "* The method rstrip will remove the newline "
   ]
  },
  {
   "cell_type": "code",
   "execution_count": null,
   "id": "a7fff929",
   "metadata": {},
   "outputs": [],
   "source": [
    "name = \"fit.txt\"\n",
    "f=open(name, \"r\")\n",
    "tmp = f.readlines()\n",
    "print(tmp)\n",
    "print(tmp[0])\n",
    "print(tmp[0].rstrip())"
   ]
  },
  {
   "cell_type": "markdown",
   "id": "be01db37",
   "metadata": {
    "slideshow": {
     "slide_type": "slide"
    }
   },
   "source": [
    "## Towards the creating the program"
   ]
  },
  {
   "cell_type": "code",
   "execution_count": 16,
   "id": "ef84d427",
   "metadata": {},
   "outputs": [
    {
     "name": "stdout",
     "output_type": "stream",
     "text": [
      "Pressup 10\n",
      "Pressup 20\n",
      "Pressup 30\n",
      "Number of pressups =  60\n"
     ]
    }
   ],
   "source": [
    "name = \"fit.txt\"\n",
    "f=open(name, \"r\")  \n",
    "tmp = f.readlines()\n",
    "no_pressup = 0\n",
    "for x in tmp:\n",
    "  xx = x.rstrip()\n",
    "#  print(xx)\n",
    "  if \"Pressup\" in xx :\n",
    "     print(xx)\n",
    "     xx_split = xx.split()\n",
    "#     print(xx_split)\n",
    "     no_pressup += int(xx_split[1])\n",
    "f.close()\n",
    "print(\"Number of pressups = \", no_pressup)"
   ]
  },
  {
   "cell_type": "markdown",
   "id": "bf31bd22",
   "metadata": {},
   "source": [
    "##  Final solution"
   ]
  },
  {
   "cell_type": "code",
   "execution_count": null,
   "id": "6e4c6bac",
   "metadata": {},
   "outputs": [],
   "source": [
    "name = \"fit.txt\"\n",
    "f=open(name, \"r\")  \n",
    "tmp = f.readlines()\n",
    "no_pressup = 0\n",
    "for x in tmp:\n",
    "  xx = x.rstrip()\n",
    "  if \"Pressup\" in xx :\n",
    "    print(xx)\n",
    "    xx_split = xx.split()\n",
    "    no_pressup += int(xx_split[1])\n",
    "f.close()\n",
    "print(xx_split[1])\n",
    "print(\"Number of pressups = \", no_pressup)"
   ]
  },
  {
   "cell_type": "markdown",
   "id": "9bdf03a3",
   "metadata": {
    "slideshow": {
     "slide_type": "slide"
    }
   },
   "source": [
    "## Example of reading a csv file\n",
    "* You need to download the csv file https://raw.githubusercontent.com/cmcneile/COMP5000-2022-lectures/main/fit.csv\n",
    "* To load a csv file the csv module can be used (https://www.programiz.com/python-programming/csv)"
   ]
  },
  {
   "cell_type": "code",
   "execution_count": 17,
   "id": "134ca38c",
   "metadata": {},
   "outputs": [
    {
     "name": "stdout",
     "output_type": "stream",
     "text": [
      "['Monday', '10', '20', '0']\n",
      "['Tuesday', '20', '0', '0']\n",
      "['Thursday', '30', '0', '10']\n",
      "['Friday', '0', '20', '0']\n"
     ]
    }
   ],
   "source": [
    "import csv\n",
    "name = \"fit.csv\"\n",
    "with open(name) as csvfile:\n",
    "    readCSV = csv.reader(csvfile, delimiter=',')\n",
    "    next(readCSV, None)  # skip the headers\n",
    "    for row in readCSV:\n",
    "      print(row)"
   ]
  },
  {
   "cell_type": "markdown",
   "id": "7d3f7b69",
   "metadata": {
    "slideshow": {
     "slide_type": "slide"
    }
   },
   "source": [
    "##  Solving the problem if the data is stored in a csv file"
   ]
  },
  {
   "cell_type": "code",
   "execution_count": 18,
   "id": "26911215",
   "metadata": {},
   "outputs": [
    {
     "name": "stdout",
     "output_type": "stream",
     "text": [
      "Number of pressups =  60\n"
     ]
    }
   ],
   "source": [
    "import csv\n",
    "name = \"fit.csv\"\n",
    "total = 0\n",
    "with open(name) as csvfile:\n",
    "    readCSV = csv.reader(csvfile, delimiter=',')\n",
    "    next(readCSV, None)  # skip the headers\n",
    "    for row in readCSV:\n",
    "      total += int( row[1] )\n",
    "print(\"Number of pressups = \", total)"
   ]
  },
  {
   "cell_type": "code",
   "execution_count": null,
   "id": "2e637b9d",
   "metadata": {},
   "outputs": [],
   "source": []
  },
  {
   "cell_type": "code",
   "execution_count": null,
   "id": "f14fcb11",
   "metadata": {},
   "outputs": [],
   "source": [
    "\n"
   ]
  },
  {
   "cell_type": "code",
   "execution_count": null,
   "id": "822d85ea",
   "metadata": {},
   "outputs": [],
   "source": []
  }
 ],
 "metadata": {
  "celltoolbar": "Slideshow",
  "kernelspec": {
   "display_name": "Python 3 (ipykernel)",
   "language": "python",
   "name": "python3"
  },
  "language_info": {
   "codemirror_mode": {
    "name": "ipython",
    "version": 3
   },
   "file_extension": ".py",
   "mimetype": "text/x-python",
   "name": "python",
   "nbconvert_exporter": "python",
   "pygments_lexer": "ipython3",
   "version": "3.12.5"
  }
 },
 "nbformat": 4,
 "nbformat_minor": 5
}
