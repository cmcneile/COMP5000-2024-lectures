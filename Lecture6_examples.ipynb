{
 "cells": [
  {
   "cell_type": "markdown",
   "id": "1832d00b",
   "metadata": {
    "slideshow": {
     "slide_type": "slide"
    }
   },
   "source": [
    "# Python examples in lecture 6\n",
    "* This file is a jupyter notebook. To run it you can download it from the DLE and run it on your own machine.\n",
    "* Or you can run it on google collab <https://colab.research.google.com> via your google account. This may be slower than running on your own machine\n",
    "\n",
    "This notebook shows how to run basic SQL commands from python"
   ]
  },
  {
   "cell_type": "markdown",
   "id": "bbc614a2",
   "metadata": {
    "slideshow": {
     "slide_type": "slide"
    }
   },
   "source": [
    "##  First example of SQL command\n",
    "\n",
    "We will look at the simplefolks.sqlite database file.\n",
    "\n",
    "Download the SQLite file from **SimpleFolks for Simple SQL**\n",
    "http://2016.padjo.org/files/data/starterpack/simplefolks.sqlite The file simplefolks.sqlite needs to be in the same directory as this notebook.\n",
    "\n",
    "You can read more about the dataset at http://2016.padjo.org/tutorials/sql-simplefolks-select-from/\n",
    "\n",
    "The above database has the following tables:\n",
    "homes, inmates, people, pets and politicians.\n",
    "\n",
    "The politicians table has columns:\n",
    "bioguide_id , position, state, party, first_name,\n",
    "last_name , birth_year , service_start, service_end.\n",
    "\n",
    "**SELECT * FROM politicians**\n",
    "\n",
    "* **\\*** means everything\n",
    "* **politicians** is the table name\n",
    "\n",
    "The database in the file simplefolks.sqlite"
   ]
  },
  {
   "cell_type": "code",
   "execution_count": 18,
   "id": "8b58712d",
   "metadata": {
    "slideshow": {
     "slide_type": "slide"
    }
   },
   "outputs": [
    {
     "name": "stdout",
     "output_type": "stream",
     "text": [
      "('B01', 'Rep', 'CA', 'Union', 'Billy', 'Bush', 1959, 1980, 2010)\n",
      "('D01', 'Senator', 'NY', 'Union', 'Don', 'Dunk', 1980, 2012, 2014)\n",
      "('L01', 'Rep', 'NY', 'Whig', 'Louis', 'Libby', 1945, 1986, 2012)\n",
      "('L02', 'Rep', 'CA', 'Union', 'Hilary', 'Lintoncay', 1965, 1980, 1982)\n",
      "('N01', 'Senator', 'NY', 'Whig', 'Daniel', 'Noogen', 1977, 2000, 2006)\n",
      "('R01', 'Rep', 'CA', 'Whig', 'Manuel', 'Roastancowski', 1920, 1960, 1999)\n",
      "('S01', 'Senator', 'CA', 'Union', 'John', 'Smith', 1933, 1972, 1976)\n",
      "('S02', 'Rep', 'CA', 'Whig', 'Janet', 'Smith', 1954, 1978, 1979)\n",
      "('S03', 'Rep', 'NY', 'Union', 'Janet', 'Smith', 1974, 2006, 2012)\n"
     ]
    },
    {
     "data": {
      "text/plain": [
       "tuple"
      ]
     },
     "execution_count": 18,
     "metadata": {},
     "output_type": "execute_result"
    }
   ],
   "source": [
    "import sqlite3\n",
    "\n",
    "connection = sqlite3.connect(\"simplefolks.sqlite\")\n",
    "cursor = connection.cursor()\n",
    "\n",
    "cursor.execute(\"SELECT * FROM politicians \") \n",
    "result = cursor.fetchall() \n",
    "for r in result:\n",
    "    print(r)\n",
    "\n",
    "type(r)"
   ]
  },
  {
   "cell_type": "markdown",
   "id": "0b7db08f",
   "metadata": {
    "slideshow": {
     "slide_type": "slide"
    }
   },
   "source": [
    "##  Second SQL example\n",
    "* The type command in python can help unpack the results"
   ]
  },
  {
   "cell_type": "code",
   "execution_count": 19,
   "id": "7b45dff3",
   "metadata": {},
   "outputs": [
    {
     "name": "stdout",
     "output_type": "stream",
     "text": [
      "('Billy', 'Bush', 1959)\n",
      "('Don', 'Dunk', 1980)\n",
      "('Louis', 'Libby', 1945)\n",
      "('Hilary', 'Lintoncay', 1965)\n",
      "('Daniel', 'Noogen', 1977)\n",
      "('Manuel', 'Roastancowski', 1920)\n",
      "('John', 'Smith', 1933)\n",
      "('Janet', 'Smith', 1954)\n",
      "('Janet', 'Smith', 1974)\n"
     ]
    }
   ],
   "source": [
    "import sqlite3\n",
    "connection = sqlite3.connect(\"simplefolks.sqlite\")\n",
    "cursor = connection.cursor()\n",
    "cursor.execute(\"select first_name, last_name, birth_year from politicians\")\n",
    "result = cursor.fetchall() \n",
    "for r in result:\n",
    "    print(r)\n"
   ]
  },
  {
   "cell_type": "markdown",
   "id": "e56a643e",
   "metadata": {
    "slideshow": {
     "slide_type": "slide"
    }
   },
   "source": [
    "##  Third SQL example\n",
    "* The type command ican help unpack the results"
   ]
  },
  {
   "cell_type": "code",
   "execution_count": 7,
   "id": "78335b05",
   "metadata": {},
   "outputs": [
    {
     "name": "stdout",
     "output_type": "stream",
     "text": [
      "('Daniel', 'Noogen', 1977)\n",
      "('Janet', 'Smith', 1974)\n"
     ]
    }
   ],
   "source": [
    "import sqlite3\n",
    "\n",
    "connection = sqlite3.connect(\"simplefolks.sqlite\")\n",
    "cursor = connection.cursor()\n",
    "cursor.execute(\"select first_name, last_name, birth_year from politicians where birth_year > 1970\")\n",
    "res = cursor.fetchone() \n",
    "result = cursor.fetchall() \n",
    "for r in result:\n",
    "    print(r)"
   ]
  },
  {
   "cell_type": "markdown",
   "id": "d84ddb0a",
   "metadata": {
    "slideshow": {
     "slide_type": "slide"
    }
   },
   "source": [
    "## An important note\n",
    "\n",
    "* The python script and the database file (simplefolks.sqlite) have to be in the **same directory** for this script to work.\n",
    "\n",
    "* If the python script doesn't find the database file, it will exit and print the confusing error message that it can't find the table.\n",
    "\n",
    "* Sometimes it will also create a version of the database file with zero length, which will then continue to fail.\n",
    "\n",
    "\n",
    "\n"
   ]
  },
  {
   "cell_type": "markdown",
   "id": "7b63cf43",
   "metadata": {
    "slideshow": {
     "slide_type": "slide"
    }
   },
   "source": [
    "##  Format of the sqlite file\n",
    "\n",
    "* Typically there are no applications on PC/mac to read sqlite file.\n",
    "* Online tools can help debug https://inloop.github.io/sqlite-viewer/\n"
   ]
  },
  {
   "cell_type": "markdown",
   "id": "eec4d203",
   "metadata": {
    "slideshow": {
     "slide_type": "slide"
    }
   },
   "source": [
    "##  PEP 249 – Python Database API Specification\n",
    "* Why is the cursor required ?\n",
    "* PEP Python Enhancement Proposals  (https://peps.python.org/pep-0000/)\n",
    "\n",
    "<blockquote>\n",
    "This API has been defined to encourage similarity between the \n",
    "Python modules that are used to access databases. By doing this, we hope to achieve a consistency leading to \n",
    "more easily understood modules, code that is generally more portable across databases, \n",
    "and a broader reach of database connectivity from Python.\n",
    "</blockquote>\n",
    "\n",
    "Database PEP  https://peps.python.org/pep-0249/"
   ]
  },
  {
   "cell_type": "markdown",
   "id": "a99c6b35",
   "metadata": {
    "slideshow": {
     "slide_type": "slide"
    }
   },
   "source": [
    "## MyQSL example\n",
    "From https://www.w3schools.com/python/python_mysql_select.asp  (It will not run)"
   ]
  },
  {
   "cell_type": "code",
   "execution_count": 11,
   "id": "eafac9c5",
   "metadata": {},
   "outputs": [
    {
     "ename": "ModuleNotFoundError",
     "evalue": "No module named 'mysql'",
     "output_type": "error",
     "traceback": [
      "\u001b[0;31m---------------------------------------------------------------------------\u001b[0m",
      "\u001b[0;31mModuleNotFoundError\u001b[0m                       Traceback (most recent call last)",
      "Cell \u001b[0;32mIn[11], line 1\u001b[0m\n\u001b[0;32m----> 1\u001b[0m \u001b[38;5;28;01mimport\u001b[39;00m \u001b[38;5;21;01mmysql\u001b[39;00m\u001b[38;5;21;01m.\u001b[39;00m\u001b[38;5;21;01mconnector\u001b[39;00m\n\u001b[1;32m      2\u001b[0m mydb \u001b[38;5;241m=\u001b[39m mysql\u001b[38;5;241m.\u001b[39mconnector\u001b[38;5;241m.\u001b[39mconnect(\n\u001b[1;32m      3\u001b[0m   host\u001b[38;5;241m=\u001b[39m\u001b[38;5;124m\"\u001b[39m\u001b[38;5;124mlocalhost\u001b[39m\u001b[38;5;124m\"\u001b[39m,\n\u001b[1;32m      4\u001b[0m   user\u001b[38;5;241m=\u001b[39m\u001b[38;5;124m\"\u001b[39m\u001b[38;5;124myourusername\u001b[39m\u001b[38;5;124m\"\u001b[39m,\n\u001b[1;32m      5\u001b[0m   password\u001b[38;5;241m=\u001b[39m\u001b[38;5;124m\"\u001b[39m\u001b[38;5;124myourpassword\u001b[39m\u001b[38;5;124m\"\u001b[39m,\n\u001b[1;32m      6\u001b[0m   database\u001b[38;5;241m=\u001b[39m\u001b[38;5;124m\"\u001b[39m\u001b[38;5;124mmydatabase\u001b[39m\u001b[38;5;124m\"\u001b[39m\n\u001b[1;32m      7\u001b[0m )\n\u001b[1;32m      8\u001b[0m mycursor \u001b[38;5;241m=\u001b[39m mydb\u001b[38;5;241m.\u001b[39mcursor()\n",
      "\u001b[0;31mModuleNotFoundError\u001b[0m: No module named 'mysql'"
     ]
    }
   ],
   "source": [
    "import mysql.connector\n",
    "mydb = mysql.connector.connect(\n",
    "  host=\"localhost\",\n",
    "  user=\"yourusername\",\n",
    "  password=\"yourpassword\",\n",
    "  database=\"mydatabase\"\n",
    ")\n",
    "mycursor = mydb.cursor()\n",
    "mycursor.execute(\"SELECT * FROM customers\")\n",
    "myresult = mycursor.fetchall()\n",
    "for x in myresult:\n",
    "  print(x)"
   ]
  },
  {
   "cell_type": "markdown",
   "id": "116bd6b5",
   "metadata": {
    "slideshow": {
     "slide_type": "slide"
    }
   },
   "source": [
    "## Another example\n",
    "\n",
    "<blockquote>\n",
    "    The management of a company have noticed that the\n",
    "productivity of the firm is reduced, because a\n",
    "number of employees are off sick because of the flu.\n",
    "The CEO suggests that it would be interesting to see \n",
    "if it was cost effective for the company to pay for \n",
    "the flu jab for all employees.\n",
    "</blockquote>\n",
    "\n",
    "The human resources department has two tables stored\n",
    "in a SQLite database in the file: **HR_info.db**. \n",
    "This file is available from the DLE.\n",
    "\n",
    "\n"
   ]
  },
  {
   "cell_type": "markdown",
   "id": "1abd7f25",
   "metadata": {
    "slideshow": {
     "slide_type": "slide"
    }
   },
   "source": [
    "##  Flu jab example continued\n",
    "\n",
    "The database (**HR_info.db**) contains two tables <br>\n",
    "\n",
    "TABLE **HR_info** with the columns:\n",
    "* **staff_number** INTEGER PRIMARY KEY\n",
    "* **salary** INTEGER\n",
    "* **age** INTEGER\n",
    "\n",
    "TABLE **flu_info** with the columns:\n",
    "* **flu_treatment** INTEGER PRIMARY KEY\n",
    "* **staff_number** INTEGER \n",
    "* **days_off** INTEGER\n",
    "\n"
   ]
  },
  {
   "cell_type": "markdown",
   "id": "655c4a27",
   "metadata": {
    "slideshow": {
     "slide_type": "slide"
    }
   },
   "source": [
    "##  Reading in all the information from one table\n",
    "\n",
    "The file HR_info.db is on the DLE."
   ]
  },
  {
   "cell_type": "code",
   "execution_count": 10,
   "id": "a3961b92",
   "metadata": {},
   "outputs": [
    {
     "name": "stdout",
     "output_type": "stream",
     "text": [
      "Staff_number Salary Age\n",
      "0 30000 64\n",
      "1 35000 37\n",
      "2 35000 56\n",
      "3 25000 30\n",
      "4 35000 42\n",
      "5 30000 51\n",
      "6 30000 46\n",
      "7 20000 55\n",
      "8 20000 21\n",
      "9 25000 57\n",
      "10 30000 46\n",
      "11 35000 30\n",
      "12 35000 70\n",
      "13 20000 27\n",
      "14 30000 51\n",
      "15 30000 48\n",
      "16 30000 21\n",
      "17 25000 58\n",
      "18 30000 61\n",
      "19 25000 63\n",
      "20 30000 70\n",
      "21 25000 55\n",
      "22 30000 38\n",
      "23 25000 44\n",
      "24 20000 64\n",
      "25 35000 24\n",
      "26 25000 35\n",
      "27 20000 21\n",
      "28 30000 45\n",
      "29 25000 29\n"
     ]
    }
   ],
   "source": [
    "import sqlite3\n",
    "connection = sqlite3.connect(\"HR_info.db\")\n",
    "cursor = connection.cursor()\n",
    "cursor.execute(\"SELECT * FROM HR_info  \") \n",
    "result = cursor.fetchall() \n",
    "print(\"Staff_number Salary Age\") \n",
    "for r in result:\n",
    "    print(r[0], r[1], r[2])"
   ]
  },
  {
   "cell_type": "markdown",
   "id": "4f305452",
   "metadata": {
    "slideshow": {
     "slide_type": "slide"
    }
   },
   "source": [
    "##  A more complex query\n",
    "\n",
    "Find employee over 50 who earn more than 30,000 pounds"
   ]
  },
  {
   "cell_type": "code",
   "execution_count": 4,
   "id": "70bf45b4",
   "metadata": {},
   "outputs": [
    {
     "name": "stdout",
     "output_type": "stream",
     "text": [
      "Staff_number Salary Age\n",
      "2 35000 56\n",
      "12 35000 70\n"
     ]
    }
   ],
   "source": [
    "import sqlite3\n",
    "connection = sqlite3.connect(\"HR_info.db\")\n",
    "cursor = connection.cursor()\n",
    "cursor.execute(\"SELECT * FROM HR_info where age > 50 and salary > 30000 \") \n",
    "result = cursor.fetchall() \n",
    "print(\"Staff_number Salary Age\") \n",
    "for r in result:\n",
    "    print(r[0], r[1], r[2])"
   ]
  },
  {
   "cell_type": "markdown",
   "id": "6935fb01",
   "metadata": {
    "slideshow": {
     "slide_type": "slide"
    }
   },
   "source": [
    "## Pulling the data from the table and plotting it\n",
    "* We want to make a plot of salary versus age \n",
    "* This is a basic data science task"
   ]
  },
  {
   "cell_type": "code",
   "execution_count": 22,
   "id": "edc01c19",
   "metadata": {},
   "outputs": [
    {
     "name": "stdout",
     "output_type": "stream",
     "text": [
      "[64, 37, 56, 30, 42, 51, 46, 55, 21, 57, 46, 30, 70, 27, 51, 48, 21, 58, 61, 63, 70, 55, 38, 44, 64, 24, 35, 21, 45, 29]\n",
      "[30000, 35000, 35000, 25000, 35000, 30000, 30000, 20000, 20000, 25000, 30000, 35000, 35000, 20000, 30000, 30000, 30000, 25000, 30000, 25000, 30000, 25000, 30000, 25000, 20000, 35000, 25000, 20000, 30000, 25000]\n"
     ]
    },
    {
     "data": {
      "image/png": "[encoded data removed]",
      "text/plain": [
       "<Figure size 640x480 with 1 Axes>"
      ]
     },
     "metadata": {},
     "output_type": "display_data"
    }
   ],
   "source": [
    "import sqlite3\n",
    "import matplotlib.pyplot as plt\n",
    "connection = sqlite3.connect(\"HR_info.db\")\n",
    "cursor = connection.cursor()\n",
    "cursor.execute(\"SELECT * FROM HR_info\") \n",
    "result = cursor.fetchall() \n",
    "age = [] \n",
    "salary = [] \n",
    "for r in result:\n",
    "#   print(r[0], r[1], r[2])\n",
    "    salary.append(r[1])\n",
    "    age.append(r[2])\n",
    "plt.plot(age,salary, \"ro\")\n",
    "plt.xlabel('Age')\n",
    "plt.ylabel(r'Salary pounds')\n",
    "print(age)\n",
    "print(salary)\n",
    "plt.show()\n"
   ]
  },
  {
   "cell_type": "markdown",
   "id": "5bf543cd",
   "metadata": {
    "slideshow": {
     "slide_type": "slide"
    }
   },
   "source": [
    "##  Extracting information from SQLlite file\n",
    "\n",
    "\n",
    "* What if we are given the file **HR_info.db** but no information about the tables.\n",
    "\n",
    "* Can we find the table names and the names of the columns?\n",
    "\n",
    "* Is the datafile self describing?\n",
    "\n",
    "\n"
   ]
  },
  {
   "cell_type": "markdown",
   "id": "407f24a2",
   "metadata": {
    "slideshow": {
     "slide_type": "slide"
    }
   },
   "source": [
    "## Useful utility\n",
    "\n",
    "There is a command line interface to sqlite\n",
    "(https://www.sqlite.org/cli.html). This is typically installed\n",
    "with Anaconda.\n",
    "\n",
    "\n",
    "* **sqlite3.exe** on Windows\n",
    "\n",
    "* **sqlite3** program on my Mac.\n",
    "\n",
    "\n",
    "This program is useful for looking at small files and debugging.\n"
   ]
  },
  {
   "cell_type": "markdown",
   "id": "ef4d5be9",
   "metadata": {
    "slideshow": {
     "slide_type": "slide"
    }
   },
   "source": [
    "On my Linux machine using the command:  sqlite3 HR_info.db\n",
    "\n",
    "<pre>\n",
    "sqlite3 HR_info.db\n",
    "sqlite> .databases\n",
    "main: ./HR_info.db\n",
    "sqlite> .schema\n",
    "CREATE TABLE HR_info (\n",
    "staff_number INTEGER PRIMARY KEY,\n",
    "salary INTEGER,\n",
    "age INTEGER);\n",
    "CREATE TABLE flu_info (\n",
    "flu_treatment INTEGER PRIMARY KEY,\n",
    "staff_number INTEGER,\n",
    "days_off INTEGER);\n",
    "\n",
    "</pre>"
   ]
  },
  {
   "cell_type": "markdown",
   "id": "59c70543",
   "metadata": {
    "slideshow": {
     "slide_type": "slide"
    }
   },
   "source": [
    "## Finding the tables in HR_info.db\n",
    "\n",
    "The file **HR_info.db** is on the DLE.\n"
   ]
  },
  {
   "cell_type": "code",
   "execution_count": 23,
   "id": "cfd1f828",
   "metadata": {},
   "outputs": [
    {
     "name": "stdout",
     "output_type": "stream",
     "text": [
      "('HR_info',)\n",
      "('flu_info',)\n"
     ]
    }
   ],
   "source": [
    "import sqlite3\n",
    "connection = sqlite3.connect(\"HR_info.db\")\n",
    "cursor = connection.cursor()\n",
    "cursor.execute(\"SELECT name FROM sqlite_master WHERE type='table';\") \n",
    "result = cursor.fetchall() \n",
    "for r in result:\n",
    "    print(r)\n"
   ]
  },
  {
   "cell_type": "markdown",
   "id": "85add4d5",
   "metadata": {
    "slideshow": {
     "slide_type": "slide"
    }
   },
   "source": [
    "## Finding the column names in HR_info.db\n",
    "\n",
    "* The file HR_info.db is on the DLE.\n",
    "* The example below finds the column names of the table HR_info\n",
    "* PRAGMA  is specific to SQLite, so it is not portable to other databases (https://www.sqlite.org/pragma.html.)\n"
   ]
  },
  {
   "cell_type": "code",
   "execution_count": 24,
   "id": "19bc7dcb",
   "metadata": {},
   "outputs": [
    {
     "name": "stdout",
     "output_type": "stream",
     "text": [
      "(0, 'staff_number', 'INTEGER', 0, None, 1)\n",
      "(1, 'salary', 'INTEGER', 0, None, 0)\n",
      "(2, 'age', 'INTEGER', 0, None, 0)\n"
     ]
    }
   ],
   "source": [
    "import sqlite3\n",
    "connection = sqlite3.connect(\"HR_info.db\")\n",
    "cursor = connection.cursor()\n",
    "cursor.execute(\"PRAGMA table_info(HR_info);\") \n",
    "result = cursor.fetchall() \n",
    "for r in result:\n",
    "    print(r)"
   ]
  },
  {
   "cell_type": "markdown",
   "id": "555c27ac",
   "metadata": {
    "slideshow": {
     "slide_type": "slide"
    }
   },
   "source": [
    "##  Checking whether the database file exists\n",
    "* One issue is that the sqlite database connect will not produce an error, if that file does not exist.\n",
    "* Even worse the the API will create an empty database file \n",
    "\n",
    "In principle, it would be better to use exceptions (https://www.w3schools.com/python/python_try_except.asp)\n",
    "to check whether the file exists,\n",
    "before you try too read it"
   ]
  },
  {
   "cell_type": "code",
   "execution_count": 26,
   "id": "dd7fdd59",
   "metadata": {},
   "outputs": [
    {
     "name": "stdout",
     "output_type": "stream",
     "text": [
      "Start to work with the database\n"
     ]
    }
   ],
   "source": [
    "! rm new_info.db\n",
    "# this example will not catch the error if the file new_info.db  does not exist\n",
    "import sqlite3\n",
    "try:\n",
    "  connection = sqlite3.connect(\"new_info.db\")\n",
    "except sqlite3.Error as err:\n",
    "  print(\"Error reading database file\")\n",
    "\n",
    "print(\"Start to work with the database\")"
   ]
  },
  {
   "cell_type": "markdown",
   "id": "cd32aff7",
   "metadata": {
    "slideshow": {
     "slide_type": "slide"
    }
   },
   "source": [
    "##  Testing whether a file exists\n",
    "* The os module (os - Operating System ) can check whether a file exists\n",
    "* See  https://www.digitalocean.com/community/tutorials/python-os-module for more information"
   ]
  },
  {
   "cell_type": "code",
   "execution_count": 9,
   "id": "81a92000",
   "metadata": {},
   "outputs": [
    {
     "name": "stdout",
     "output_type": "stream",
     "text": [
      "HGR_info.db  NOT found\n"
     ]
    }
   ],
   "source": [
    "# Code to test whether a file exists\n",
    "import os\n",
    "\n",
    "file_name = \"HGR_info.db\"\n",
    "if os.path.isfile(file_name) :\n",
    "     print(file_name , \" exists\")\n",
    "else:\n",
    "     print(file_name , \" NOT found\")\n"
   ]
  },
  {
   "cell_type": "markdown",
   "id": "5caeb338",
   "metadata": {
    "slideshow": {
     "slide_type": "slide"
    }
   },
   "source": [
    "##  Checking whether a file exists\n",
    "* By using special syntax Uniform Resource Identifier URI the open of the database can be \n",
    "* https://www.sqlite.org/uri.html\n",
    "\n",
    "See the following for more infoormation\n",
    "*  https://stackoverflow.com/questions/57828286/how-to-make-sqlite3-connect-fail-if-the-db-file-does-not-exist"
   ]
  },
  {
   "cell_type": "code",
   "execution_count": 10,
   "id": "b7cbb1ab",
   "metadata": {},
   "outputs": [
    {
     "name": "stdout",
     "output_type": "stream",
     "text": [
      "Error reading the file  FHR_info.db\n"
     ]
    }
   ],
   "source": [
    "# see information \n",
    "import sqlite3\n",
    "database_file = \"FHR_info.db\"\n",
    "try:\n",
    "    # The open of the database is now readonly \"ro\"\n",
    "    connection = sqlite3.connect(\"file:\" + database_file  + \"?mode=ro\", uri=True)\n",
    "except sqlite3.Error as err:\n",
    "  print(\"Error reading the file \" , database_file)\n",
    "\n"
   ]
  },
  {
   "cell_type": "code",
   "execution_count": 11,
   "id": "99039fd7",
   "metadata": {},
   "outputs": [],
   "source": [
    "#! rm GHR_info.db\n"
   ]
  },
  {
   "cell_type": "markdown",
   "id": "e2af94fe",
   "metadata": {
    "slideshow": {
     "slide_type": "slide"
    }
   },
   "source": [
    "## Sakila example"
   ]
  },
  {
   "cell_type": "code",
   "execution_count": 13,
   "id": "4af8e5e3",
   "metadata": {},
   "outputs": [
    {
     "name": "stdout",
     "output_type": "stream",
     "text": [
      "(1, 'PENELOPE', 'GUINESS', '2019-04-11 18:11:48')\n",
      "(2, 'NICK', 'WAHLBERG', '2019-04-11 18:11:48')\n",
      "(3, 'ED', 'CHASE', '2019-04-11 18:11:48')\n",
      "(4, 'JENNIFER', 'DAVIS', '2019-04-11 18:11:48')\n",
      "(5, 'JOHNNY', 'LOLLOBRIGIDA', '2019-04-11 18:11:48')\n",
      "(6, 'BETTE', 'NICHOLSON', '2019-04-11 18:11:48')\n",
      "(7, 'GRACE', 'MOSTEL', '2019-04-11 18:11:48')\n",
      "(8, 'MATTHEW', 'JOHANSSON', '2019-04-11 18:11:48')\n",
      "(9, 'JOE', 'SWANK', '2019-04-11 18:11:48')\n",
      "(10, 'CHRISTIAN', 'GABLE', '2019-04-11 18:11:48')\n",
      "(11, 'ZERO', 'CAGE', '2019-04-11 18:11:48')\n",
      "(12, 'KARL', 'BERRY', '2019-04-11 18:11:48')\n",
      "(13, 'UMA', 'WOOD', '2019-04-11 18:11:48')\n",
      "(14, 'VIVIEN', 'BERGEN', '2019-04-11 18:11:48')\n",
      "(15, 'CUBA', 'OLIVIER', '2019-04-11 18:11:48')\n",
      "(16, 'FRED', 'COSTNER', '2019-04-11 18:11:48')\n",
      "(17, 'HELEN', 'VOIGHT', '2019-04-11 18:11:48')\n",
      "(18, 'DAN', 'TORN', '2019-04-11 18:11:48')\n",
      "(19, 'BOB', 'FAWCETT', '2019-04-11 18:11:48')\n",
      "(20, 'LUCILLE', 'TRACY', '2019-04-11 18:11:48')\n",
      "(21, 'KIRSTEN', 'PALTROW', '2019-04-11 18:11:48')\n",
      "(22, 'ELVIS', 'MARX', '2019-04-11 18:11:48')\n",
      "(23, 'SANDRA', 'KILMER', '2019-04-11 18:11:48')\n",
      "(24, 'CAMERON', 'STREEP', '2019-04-11 18:11:48')\n",
      "(25, 'KEVIN', 'BLOOM', '2019-04-11 18:11:48')\n",
      "(26, 'RIP', 'CRAWFORD', '2019-04-11 18:11:48')\n",
      "(27, 'JULIA', 'MCQUEEN', '2019-04-11 18:11:48')\n",
      "(28, 'WOODY', 'HOFFMAN', '2019-04-11 18:11:48')\n",
      "(29, 'ALEC', 'WAYNE', '2019-04-11 18:11:48')\n",
      "(30, 'SANDRA', 'PECK', '2019-04-11 18:11:48')\n",
      "(31, 'SISSY', 'SOBIESKI', '2019-04-11 18:11:48')\n",
      "(32, 'TIM', 'HACKMAN', '2019-04-11 18:11:48')\n",
      "(33, 'MILLA', 'PECK', '2019-04-11 18:11:48')\n",
      "(34, 'AUDREY', 'OLIVIER', '2019-04-11 18:11:48')\n",
      "(35, 'JUDY', 'DEAN', '2019-04-11 18:11:48')\n",
      "(36, 'BURT', 'DUKAKIS', '2019-04-11 18:11:48')\n",
      "(37, 'VAL', 'BOLGER', '2019-04-11 18:11:48')\n",
      "(38, 'TOM', 'MCKELLEN', '2019-04-11 18:11:48')\n",
      "(39, 'GOLDIE', 'BRODY', '2019-04-11 18:11:48')\n",
      "(40, 'JOHNNY', 'CAGE', '2019-04-11 18:11:48')\n",
      "(41, 'JODIE', 'DEGENERES', '2019-04-11 18:11:48')\n",
      "(42, 'TOM', 'MIRANDA', '2019-04-11 18:11:48')\n",
      "(43, 'KIRK', 'JOVOVICH', '2019-04-11 18:11:48')\n",
      "(44, 'NICK', 'STALLONE', '2019-04-11 18:11:48')\n",
      "(45, 'REESE', 'KILMER', '2019-04-11 18:11:48')\n",
      "(46, 'PARKER', 'GOLDBERG', '2019-04-11 18:11:48')\n",
      "(47, 'JULIA', 'BARRYMORE', '2019-04-11 18:11:48')\n",
      "(48, 'FRANCES', 'DAY-LEWIS', '2019-04-11 18:11:48')\n",
      "(49, 'ANNE', 'CRONYN', '2019-04-11 18:11:48')\n",
      "(50, 'NATALIE', 'HOPKINS', '2019-04-11 18:11:48')\n",
      "(51, 'GARY', 'PHOENIX', '2019-04-11 18:11:48')\n",
      "(52, 'CARMEN', 'HUNT', '2019-04-11 18:11:48')\n",
      "(53, 'MENA', 'TEMPLE', '2019-04-11 18:11:48')\n",
      "(54, 'PENELOPE', 'PINKETT', '2019-04-11 18:11:48')\n",
      "(55, 'FAY', 'KILMER', '2019-04-11 18:11:48')\n",
      "(56, 'DAN', 'HARRIS', '2019-04-11 18:11:48')\n",
      "(57, 'JUDE', 'CRUISE', '2019-04-11 18:11:48')\n",
      "(58, 'CHRISTIAN', 'AKROYD', '2019-04-11 18:11:48')\n",
      "(59, 'DUSTIN', 'TAUTOU', '2019-04-11 18:11:48')\n",
      "(60, 'HENRY', 'BERRY', '2019-04-11 18:11:48')\n",
      "(61, 'CHRISTIAN', 'NEESON', '2019-04-11 18:11:48')\n",
      "(62, 'JAYNE', 'NEESON', '2019-04-11 18:11:48')\n",
      "(63, 'CAMERON', 'WRAY', '2019-04-11 18:11:48')\n",
      "(64, 'RAY', 'JOHANSSON', '2019-04-11 18:11:48')\n",
      "(65, 'ANGELA', 'HUDSON', '2019-04-11 18:11:48')\n",
      "(66, 'MARY', 'TANDY', '2019-04-11 18:11:48')\n",
      "(67, 'JESSICA', 'BAILEY', '2019-04-11 18:11:48')\n",
      "(68, 'RIP', 'WINSLET', '2019-04-11 18:11:48')\n",
      "(69, 'KENNETH', 'PALTROW', '2019-04-11 18:11:48')\n",
      "(70, 'MICHELLE', 'MCCONAUGHEY', '2019-04-11 18:11:48')\n",
      "(71, 'ADAM', 'GRANT', '2019-04-11 18:11:48')\n",
      "(72, 'SEAN', 'WILLIAMS', '2019-04-11 18:11:48')\n",
      "(73, 'GARY', 'PENN', '2019-04-11 18:11:48')\n",
      "(74, 'MILLA', 'KEITEL', '2019-04-11 18:11:48')\n",
      "(75, 'BURT', 'POSEY', '2019-04-11 18:11:48')\n",
      "(76, 'ANGELINA', 'ASTAIRE', '2019-04-11 18:11:48')\n",
      "(77, 'CARY', 'MCCONAUGHEY', '2019-04-11 18:11:48')\n",
      "(78, 'GROUCHO', 'SINATRA', '2019-04-11 18:11:48')\n",
      "(79, 'MAE', 'HOFFMAN', '2019-04-11 18:11:48')\n",
      "(80, 'RALPH', 'CRUZ', '2019-04-11 18:11:48')\n",
      "(81, 'SCARLETT', 'DAMON', '2019-04-11 18:11:48')\n",
      "(82, 'WOODY', 'JOLIE', '2019-04-11 18:11:48')\n",
      "(83, 'BEN', 'WILLIS', '2019-04-11 18:11:48')\n",
      "(84, 'JAMES', 'PITT', '2019-04-11 18:11:48')\n",
      "(85, 'MINNIE', 'ZELLWEGER', '2019-04-11 18:11:48')\n",
      "(86, 'GREG', 'CHAPLIN', '2019-04-11 18:11:48')\n",
      "(87, 'SPENCER', 'PECK', '2019-04-11 18:11:48')\n",
      "(88, 'KENNETH', 'PESCI', '2019-04-11 18:11:48')\n",
      "(89, 'CHARLIZE', 'DENCH', '2019-04-11 18:11:48')\n",
      "(90, 'SEAN', 'GUINESS', '2019-04-11 18:11:48')\n",
      "(91, 'CHRISTOPHER', 'BERRY', '2019-04-11 18:11:48')\n",
      "(92, 'KIRSTEN', 'AKROYD', '2019-04-11 18:11:48')\n",
      "(93, 'ELLEN', 'PRESLEY', '2019-04-11 18:11:48')\n",
      "(94, 'KENNETH', 'TORN', '2019-04-11 18:11:48')\n",
      "(95, 'DARYL', 'WAHLBERG', '2019-04-11 18:11:48')\n",
      "(96, 'GENE', 'WILLIS', '2019-04-11 18:11:48')\n",
      "(97, 'MEG', 'HAWKE', '2019-04-11 18:11:48')\n",
      "(98, 'CHRIS', 'BRIDGES', '2019-04-11 18:11:48')\n",
      "(99, 'JIM', 'MOSTEL', '2019-04-11 18:11:48')\n",
      "(100, 'SPENCER', 'DEPP', '2019-04-11 18:11:48')\n",
      "(101, 'SUSAN', 'DAVIS', '2019-04-11 18:11:48')\n",
      "(102, 'WALTER', 'TORN', '2019-04-11 18:11:48')\n",
      "(103, 'MATTHEW', 'LEIGH', '2019-04-11 18:11:48')\n",
      "(104, 'PENELOPE', 'CRONYN', '2019-04-11 18:11:48')\n",
      "(105, 'SIDNEY', 'CROWE', '2019-04-11 18:11:48')\n",
      "(106, 'GROUCHO', 'DUNST', '2019-04-11 18:11:48')\n",
      "(107, 'GINA', 'DEGENERES', '2019-04-11 18:11:48')\n",
      "(108, 'WARREN', 'NOLTE', '2019-04-11 18:11:48')\n",
      "(109, 'SYLVESTER', 'DERN', '2019-04-11 18:11:48')\n",
      "(110, 'SUSAN', 'DAVIS', '2019-04-11 18:11:48')\n",
      "(111, 'CAMERON', 'ZELLWEGER', '2019-04-11 18:11:48')\n",
      "(112, 'RUSSELL', 'BACALL', '2019-04-11 18:11:48')\n",
      "(113, 'MORGAN', 'HOPKINS', '2019-04-11 18:11:48')\n",
      "(114, 'MORGAN', 'MCDORMAND', '2019-04-11 18:11:48')\n",
      "(115, 'HARRISON', 'BALE', '2019-04-11 18:11:48')\n",
      "(116, 'DAN', 'STREEP', '2019-04-11 18:11:48')\n",
      "(117, 'RENEE', 'TRACY', '2019-04-11 18:11:48')\n",
      "(118, 'CUBA', 'ALLEN', '2019-04-11 18:11:48')\n",
      "(119, 'WARREN', 'JACKMAN', '2019-04-11 18:11:48')\n",
      "(120, 'PENELOPE', 'MONROE', '2019-04-11 18:11:48')\n",
      "(121, 'LIZA', 'BERGMAN', '2019-04-11 18:11:48')\n",
      "(122, 'SALMA', 'NOLTE', '2019-04-11 18:11:48')\n",
      "(123, 'JULIANNE', 'DENCH', '2019-04-11 18:11:48')\n",
      "(124, 'SCARLETT', 'BENING', '2019-04-11 18:11:48')\n",
      "(125, 'ALBERT', 'NOLTE', '2019-04-11 18:11:48')\n",
      "(126, 'FRANCES', 'TOMEI', '2019-04-11 18:11:48')\n",
      "(127, 'KEVIN', 'GARLAND', '2019-04-11 18:11:48')\n",
      "(128, 'CATE', 'MCQUEEN', '2019-04-11 18:11:48')\n",
      "(129, 'DARYL', 'CRAWFORD', '2019-04-11 18:11:48')\n",
      "(130, 'GRETA', 'KEITEL', '2019-04-11 18:11:48')\n",
      "(131, 'JANE', 'JACKMAN', '2019-04-11 18:11:48')\n",
      "(132, 'ADAM', 'HOPPER', '2019-04-11 18:11:48')\n",
      "(133, 'RICHARD', 'PENN', '2019-04-11 18:11:48')\n",
      "(134, 'GENE', 'HOPKINS', '2019-04-11 18:11:48')\n",
      "(135, 'RITA', 'REYNOLDS', '2019-04-11 18:11:48')\n",
      "(136, 'ED', 'MANSFIELD', '2019-04-11 18:11:48')\n",
      "(137, 'MORGAN', 'WILLIAMS', '2019-04-11 18:11:48')\n",
      "(138, 'LUCILLE', 'DEE', '2019-04-11 18:11:48')\n",
      "(139, 'EWAN', 'GOODING', '2019-04-11 18:11:48')\n",
      "(140, 'WHOOPI', 'HURT', '2019-04-11 18:11:48')\n",
      "(141, 'CATE', 'HARRIS', '2019-04-11 18:11:48')\n",
      "(142, 'JADA', 'RYDER', '2019-04-11 18:11:48')\n",
      "(143, 'RIVER', 'DEAN', '2019-04-11 18:11:48')\n",
      "(144, 'ANGELA', 'WITHERSPOON', '2019-04-11 18:11:48')\n",
      "(145, 'KIM', 'ALLEN', '2019-04-11 18:11:48')\n",
      "(146, 'ALBERT', 'JOHANSSON', '2019-04-11 18:11:48')\n",
      "(147, 'FAY', 'WINSLET', '2019-04-11 18:11:48')\n",
      "(148, 'EMILY', 'DEE', '2019-04-11 18:11:48')\n",
      "(149, 'RUSSELL', 'TEMPLE', '2019-04-11 18:11:48')\n",
      "(150, 'JAYNE', 'NOLTE', '2019-04-11 18:11:48')\n",
      "(151, 'GEOFFREY', 'HESTON', '2019-04-11 18:11:48')\n",
      "(152, 'BEN', 'HARRIS', '2019-04-11 18:11:48')\n",
      "(153, 'MINNIE', 'KILMER', '2019-04-11 18:11:48')\n",
      "(154, 'MERYL', 'GIBSON', '2019-04-11 18:11:48')\n",
      "(155, 'IAN', 'TANDY', '2019-04-11 18:11:48')\n",
      "(156, 'FAY', 'WOOD', '2019-04-11 18:11:48')\n",
      "(157, 'GRETA', 'MALDEN', '2019-04-11 18:11:48')\n",
      "(158, 'VIVIEN', 'BASINGER', '2019-04-11 18:11:48')\n",
      "(159, 'LAURA', 'BRODY', '2019-04-11 18:11:48')\n",
      "(160, 'CHRIS', 'DEPP', '2019-04-11 18:11:48')\n",
      "(161, 'HARVEY', 'HOPE', '2019-04-11 18:11:48')\n",
      "(162, 'OPRAH', 'KILMER', '2019-04-11 18:11:48')\n",
      "(163, 'CHRISTOPHER', 'WEST', '2019-04-11 18:11:48')\n",
      "(164, 'HUMPHREY', 'WILLIS', '2019-04-11 18:11:48')\n",
      "(165, 'AL', 'GARLAND', '2019-04-11 18:11:48')\n",
      "(166, 'NICK', 'DEGENERES', '2019-04-11 18:11:48')\n",
      "(167, 'LAURENCE', 'BULLOCK', '2019-04-11 18:11:48')\n",
      "(168, 'WILL', 'WILSON', '2019-04-11 18:11:48')\n",
      "(169, 'KENNETH', 'HOFFMAN', '2019-04-11 18:11:48')\n",
      "(170, 'MENA', 'HOPPER', '2019-04-11 18:11:48')\n",
      "(171, 'OLYMPIA', 'PFEIFFER', '2019-04-11 18:11:48')\n",
      "(172, 'GROUCHO', 'WILLIAMS', '2019-04-11 18:11:48')\n",
      "(173, 'ALAN', 'DREYFUSS', '2019-04-11 18:11:48')\n",
      "(174, 'MICHAEL', 'BENING', '2019-04-11 18:11:48')\n",
      "(175, 'WILLIAM', 'HACKMAN', '2019-04-11 18:11:48')\n",
      "(176, 'JON', 'CHASE', '2019-04-11 18:11:48')\n",
      "(177, 'GENE', 'MCKELLEN', '2019-04-11 18:11:48')\n",
      "(178, 'LISA', 'MONROE', '2019-04-11 18:11:48')\n",
      "(179, 'ED', 'GUINESS', '2019-04-11 18:11:48')\n",
      "(180, 'JEFF', 'SILVERSTONE', '2019-04-11 18:11:48')\n",
      "(181, 'MATTHEW', 'CARREY', '2019-04-11 18:11:48')\n",
      "(182, 'DEBBIE', 'AKROYD', '2019-04-11 18:11:48')\n",
      "(183, 'RUSSELL', 'CLOSE', '2019-04-11 18:11:48')\n",
      "(184, 'HUMPHREY', 'GARLAND', '2019-04-11 18:11:48')\n",
      "(185, 'MICHAEL', 'BOLGER', '2019-04-11 18:11:48')\n",
      "(186, 'JULIA', 'ZELLWEGER', '2019-04-11 18:11:48')\n",
      "(187, 'RENEE', 'BALL', '2019-04-11 18:11:48')\n",
      "(188, 'ROCK', 'DUKAKIS', '2019-04-11 18:11:48')\n",
      "(189, 'CUBA', 'BIRCH', '2019-04-11 18:11:48')\n",
      "(190, 'AUDREY', 'BAILEY', '2019-04-11 18:11:48')\n",
      "(191, 'GREGORY', 'GOODING', '2019-04-11 18:11:48')\n",
      "(192, 'JOHN', 'SUVARI', '2019-04-11 18:11:48')\n",
      "(193, 'BURT', 'TEMPLE', '2019-04-11 18:11:48')\n",
      "(194, 'MERYL', 'ALLEN', '2019-04-11 18:11:48')\n",
      "(195, 'JAYNE', 'SILVERSTONE', '2019-04-11 18:11:48')\n",
      "(196, 'BELA', 'WALKEN', '2019-04-11 18:11:48')\n",
      "(197, 'REESE', 'WEST', '2019-04-11 18:11:48')\n",
      "(198, 'MARY', 'KEITEL', '2019-04-11 18:11:48')\n",
      "(199, 'JULIA', 'FAWCETT', '2019-04-11 18:11:48')\n",
      "(200, 'THORA', 'TEMPLE', '2019-04-11 18:11:48')\n"
     ]
    }
   ],
   "source": [
    "import sqlite3\n",
    "\n",
    "connection = sqlite3.connect(\"sakila.db\")\n",
    "cursor = connection.cursor()\n",
    "# This is the SQL xcommand\n",
    "cursor.execute(\"SELECT * FROM actor\") \n",
    "result = cursor.fetchall() \n",
    "for r in result:\n",
    "    print(r)\n"
   ]
  },
  {
   "cell_type": "code",
   "execution_count": null,
   "id": "e211d125",
   "metadata": {},
   "outputs": [],
   "source": []
  }
 ],
 "metadata": {
  "celltoolbar": "Slideshow",
  "kernelspec": {
   "display_name": "Python 3 (ipykernel)",
   "language": "python",
   "name": "python3"
  },
  "language_info": {
   "codemirror_mode": {
    "name": "ipython",
    "version": 3
   },
   "file_extension": ".py",
   "mimetype": "text/x-python",
   "name": "python",
   "nbconvert_exporter": "python",
   "pygments_lexer": "ipython3",
   "version": "3.12.2"
  }
 },
 "nbformat": 4,
 "nbformat_minor": 5
}
